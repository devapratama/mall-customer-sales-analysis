{
  "nbformat": 4,
  "nbformat_minor": 0,
  "metadata": {
    "colab": {
      "provenance": []
    },
    "kernelspec": {
      "name": "python3",
      "display_name": "Python 3"
    },
    "language_info": {
      "name": "python"
    }
  },
  "cells": [
    {
      "cell_type": "markdown",
      "source": [
        "## Data Understanding"
      ],
      "metadata": {
        "id": "O-c2gv7d7sgM"
      }
    },
    {
      "cell_type": "code",
      "execution_count": null,
      "metadata": {
        "id": "sIKsoBp52qT_"
      },
      "outputs": [],
      "source": [
        "import pandas as pd\n",
        "import seaborn as sns\n",
        "import matplotlib.pyplot as plt"
      ]
    },
    {
      "cell_type": "markdown",
      "source": [
        "### 1. Load and Reading Data"
      ],
      "metadata": {
        "id": "a7UJf66B89Zs"
      }
    },
    {
      "cell_type": "code",
      "source": [
        "# Load the datasets from Excel files\n",
        "excel_sales_data = pd.ExcelFile('sales_data.xlsx')\n",
        "excel_customer_data = pd.ExcelFile('customer_data.xlsx')\n",
        "excel_shopping_mall_data = pd.ExcelFile('shopping_mall_data.xlsx')\n",
        "\n",
        "# Read each sheet into a DataFrame\n",
        "sales_data = pd.read_excel(excel_sales_data, sheet_name='sales_data')\n",
        "customer_data = pd.read_excel(excel_customer_data, sheet_name='customer_data')\n",
        "shopping_mall_data = pd.read_excel(excel_shopping_mall_data, sheet_name='shopping_mall')"
      ],
      "metadata": {
        "id": "RGmvL3WZ7yja"
      },
      "execution_count": null,
      "outputs": []
    },
    {
      "cell_type": "code",
      "source": [
        "# Display the first 5 rows of each dataset\n",
        "print(\"Sales Data:\")\n",
        "sales_data.head()"
      ],
      "metadata": {
        "colab": {
          "base_uri": "https://localhost:8080/",
          "height": 223
        },
        "id": "TZ3Zvwt0-VMx",
        "outputId": "f5a4bc6e-b3e2-44dd-9bf4-6fe11ae080ff"
      },
      "execution_count": null,
      "outputs": [
        {
          "output_type": "stream",
          "name": "stdout",
          "text": [
            "Sales Data:\n"
          ]
        },
        {
          "output_type": "execute_result",
          "data": {
            "text/plain": [
              "  invoice_no customer_id  category  quantity invoice date    price  \\\n",
              "0    I138884     C241288  Clothing         5   05/08/2022  1500.40   \n",
              "1    I317333     C111565     Shoes         3   12/12/2021  1800.51   \n",
              "2    I127801     C266599  Clothing         1   09/11/2021   300.08   \n",
              "3    I173702     C988172     Shoes         5   05/16/2021  3000.85   \n",
              "4    I337046     C189076     Books         4   10/24/2021    60.60   \n",
              "\n",
              "              shopping_mall  \n",
              "0         South Coast Plaza  \n",
              "1            Beverly Center  \n",
              "2    Westfield Century City  \n",
              "3  Stanford Shopping Center  \n",
              "4         South Coast Plaza  "
            ],
            "text/html": [
              "\n",
              "  <div id=\"df-9f7bec24-e5ef-4b56-8555-4fcf5968ba39\" class=\"colab-df-container\">\n",
              "    <div>\n",
              "<style scoped>\n",
              "    .dataframe tbody tr th:only-of-type {\n",
              "        vertical-align: middle;\n",
              "    }\n",
              "\n",
              "    .dataframe tbody tr th {\n",
              "        vertical-align: top;\n",
              "    }\n",
              "\n",
              "    .dataframe thead th {\n",
              "        text-align: right;\n",
              "    }\n",
              "</style>\n",
              "<table border=\"1\" class=\"dataframe\">\n",
              "  <thead>\n",
              "    <tr style=\"text-align: right;\">\n",
              "      <th></th>\n",
              "      <th>invoice_no</th>\n",
              "      <th>customer_id</th>\n",
              "      <th>category</th>\n",
              "      <th>quantity</th>\n",
              "      <th>invoice date</th>\n",
              "      <th>price</th>\n",
              "      <th>shopping_mall</th>\n",
              "    </tr>\n",
              "  </thead>\n",
              "  <tbody>\n",
              "    <tr>\n",
              "      <th>0</th>\n",
              "      <td>I138884</td>\n",
              "      <td>C241288</td>\n",
              "      <td>Clothing</td>\n",
              "      <td>5</td>\n",
              "      <td>05/08/2022</td>\n",
              "      <td>1500.40</td>\n",
              "      <td>South Coast Plaza</td>\n",
              "    </tr>\n",
              "    <tr>\n",
              "      <th>1</th>\n",
              "      <td>I317333</td>\n",
              "      <td>C111565</td>\n",
              "      <td>Shoes</td>\n",
              "      <td>3</td>\n",
              "      <td>12/12/2021</td>\n",
              "      <td>1800.51</td>\n",
              "      <td>Beverly Center</td>\n",
              "    </tr>\n",
              "    <tr>\n",
              "      <th>2</th>\n",
              "      <td>I127801</td>\n",
              "      <td>C266599</td>\n",
              "      <td>Clothing</td>\n",
              "      <td>1</td>\n",
              "      <td>09/11/2021</td>\n",
              "      <td>300.08</td>\n",
              "      <td>Westfield Century City</td>\n",
              "    </tr>\n",
              "    <tr>\n",
              "      <th>3</th>\n",
              "      <td>I173702</td>\n",
              "      <td>C988172</td>\n",
              "      <td>Shoes</td>\n",
              "      <td>5</td>\n",
              "      <td>05/16/2021</td>\n",
              "      <td>3000.85</td>\n",
              "      <td>Stanford Shopping Center</td>\n",
              "    </tr>\n",
              "    <tr>\n",
              "      <th>4</th>\n",
              "      <td>I337046</td>\n",
              "      <td>C189076</td>\n",
              "      <td>Books</td>\n",
              "      <td>4</td>\n",
              "      <td>10/24/2021</td>\n",
              "      <td>60.60</td>\n",
              "      <td>South Coast Plaza</td>\n",
              "    </tr>\n",
              "  </tbody>\n",
              "</table>\n",
              "</div>\n",
              "    <div class=\"colab-df-buttons\">\n",
              "\n",
              "  <div class=\"colab-df-container\">\n",
              "    <button class=\"colab-df-convert\" onclick=\"convertToInteractive('df-9f7bec24-e5ef-4b56-8555-4fcf5968ba39')\"\n",
              "            title=\"Convert this dataframe to an interactive table.\"\n",
              "            style=\"display:none;\">\n",
              "\n",
              "  <svg xmlns=\"http://www.w3.org/2000/svg\" height=\"24px\" viewBox=\"0 -960 960 960\">\n",
              "    <path d=\"M120-120v-720h720v720H120Zm60-500h600v-160H180v160Zm220 220h160v-160H400v160Zm0 220h160v-160H400v160ZM180-400h160v-160H180v160Zm440 0h160v-160H620v160ZM180-180h160v-160H180v160Zm440 0h160v-160H620v160Z\"/>\n",
              "  </svg>\n",
              "    </button>\n",
              "\n",
              "  <style>\n",
              "    .colab-df-container {\n",
              "      display:flex;\n",
              "      gap: 12px;\n",
              "    }\n",
              "\n",
              "    .colab-df-convert {\n",
              "      background-color: #E8F0FE;\n",
              "      border: none;\n",
              "      border-radius: 50%;\n",
              "      cursor: pointer;\n",
              "      display: none;\n",
              "      fill: #1967D2;\n",
              "      height: 32px;\n",
              "      padding: 0 0 0 0;\n",
              "      width: 32px;\n",
              "    }\n",
              "\n",
              "    .colab-df-convert:hover {\n",
              "      background-color: #E2EBFA;\n",
              "      box-shadow: 0px 1px 2px rgba(60, 64, 67, 0.3), 0px 1px 3px 1px rgba(60, 64, 67, 0.15);\n",
              "      fill: #174EA6;\n",
              "    }\n",
              "\n",
              "    .colab-df-buttons div {\n",
              "      margin-bottom: 4px;\n",
              "    }\n",
              "\n",
              "    [theme=dark] .colab-df-convert {\n",
              "      background-color: #3B4455;\n",
              "      fill: #D2E3FC;\n",
              "    }\n",
              "\n",
              "    [theme=dark] .colab-df-convert:hover {\n",
              "      background-color: #434B5C;\n",
              "      box-shadow: 0px 1px 3px 1px rgba(0, 0, 0, 0.15);\n",
              "      filter: drop-shadow(0px 1px 2px rgba(0, 0, 0, 0.3));\n",
              "      fill: #FFFFFF;\n",
              "    }\n",
              "  </style>\n",
              "\n",
              "    <script>\n",
              "      const buttonEl =\n",
              "        document.querySelector('#df-9f7bec24-e5ef-4b56-8555-4fcf5968ba39 button.colab-df-convert');\n",
              "      buttonEl.style.display =\n",
              "        google.colab.kernel.accessAllowed ? 'block' : 'none';\n",
              "\n",
              "      async function convertToInteractive(key) {\n",
              "        const element = document.querySelector('#df-9f7bec24-e5ef-4b56-8555-4fcf5968ba39');\n",
              "        const dataTable =\n",
              "          await google.colab.kernel.invokeFunction('convertToInteractive',\n",
              "                                                    [key], {});\n",
              "        if (!dataTable) return;\n",
              "\n",
              "        const docLinkHtml = 'Like what you see? Visit the ' +\n",
              "          '<a target=\"_blank\" href=https://colab.research.google.com/notebooks/data_table.ipynb>data table notebook</a>'\n",
              "          + ' to learn more about interactive tables.';\n",
              "        element.innerHTML = '';\n",
              "        dataTable['output_type'] = 'display_data';\n",
              "        await google.colab.output.renderOutput(dataTable, element);\n",
              "        const docLink = document.createElement('div');\n",
              "        docLink.innerHTML = docLinkHtml;\n",
              "        element.appendChild(docLink);\n",
              "      }\n",
              "    </script>\n",
              "  </div>\n",
              "\n",
              "\n",
              "<div id=\"df-a87ab42e-b452-49dc-9336-d28bf50b6c59\">\n",
              "  <button class=\"colab-df-quickchart\" onclick=\"quickchart('df-a87ab42e-b452-49dc-9336-d28bf50b6c59')\"\n",
              "            title=\"Suggest charts\"\n",
              "            style=\"display:none;\">\n",
              "\n",
              "<svg xmlns=\"http://www.w3.org/2000/svg\" height=\"24px\"viewBox=\"0 0 24 24\"\n",
              "     width=\"24px\">\n",
              "    <g>\n",
              "        <path d=\"M19 3H5c-1.1 0-2 .9-2 2v14c0 1.1.9 2 2 2h14c1.1 0 2-.9 2-2V5c0-1.1-.9-2-2-2zM9 17H7v-7h2v7zm4 0h-2V7h2v10zm4 0h-2v-4h2v4z\"/>\n",
              "    </g>\n",
              "</svg>\n",
              "  </button>\n",
              "\n",
              "<style>\n",
              "  .colab-df-quickchart {\n",
              "      --bg-color: #E8F0FE;\n",
              "      --fill-color: #1967D2;\n",
              "      --hover-bg-color: #E2EBFA;\n",
              "      --hover-fill-color: #174EA6;\n",
              "      --disabled-fill-color: #AAA;\n",
              "      --disabled-bg-color: #DDD;\n",
              "  }\n",
              "\n",
              "  [theme=dark] .colab-df-quickchart {\n",
              "      --bg-color: #3B4455;\n",
              "      --fill-color: #D2E3FC;\n",
              "      --hover-bg-color: #434B5C;\n",
              "      --hover-fill-color: #FFFFFF;\n",
              "      --disabled-bg-color: #3B4455;\n",
              "      --disabled-fill-color: #666;\n",
              "  }\n",
              "\n",
              "  .colab-df-quickchart {\n",
              "    background-color: var(--bg-color);\n",
              "    border: none;\n",
              "    border-radius: 50%;\n",
              "    cursor: pointer;\n",
              "    display: none;\n",
              "    fill: var(--fill-color);\n",
              "    height: 32px;\n",
              "    padding: 0;\n",
              "    width: 32px;\n",
              "  }\n",
              "\n",
              "  .colab-df-quickchart:hover {\n",
              "    background-color: var(--hover-bg-color);\n",
              "    box-shadow: 0 1px 2px rgba(60, 64, 67, 0.3), 0 1px 3px 1px rgba(60, 64, 67, 0.15);\n",
              "    fill: var(--button-hover-fill-color);\n",
              "  }\n",
              "\n",
              "  .colab-df-quickchart-complete:disabled,\n",
              "  .colab-df-quickchart-complete:disabled:hover {\n",
              "    background-color: var(--disabled-bg-color);\n",
              "    fill: var(--disabled-fill-color);\n",
              "    box-shadow: none;\n",
              "  }\n",
              "\n",
              "  .colab-df-spinner {\n",
              "    border: 2px solid var(--fill-color);\n",
              "    border-color: transparent;\n",
              "    border-bottom-color: var(--fill-color);\n",
              "    animation:\n",
              "      spin 1s steps(1) infinite;\n",
              "  }\n",
              "\n",
              "  @keyframes spin {\n",
              "    0% {\n",
              "      border-color: transparent;\n",
              "      border-bottom-color: var(--fill-color);\n",
              "      border-left-color: var(--fill-color);\n",
              "    }\n",
              "    20% {\n",
              "      border-color: transparent;\n",
              "      border-left-color: var(--fill-color);\n",
              "      border-top-color: var(--fill-color);\n",
              "    }\n",
              "    30% {\n",
              "      border-color: transparent;\n",
              "      border-left-color: var(--fill-color);\n",
              "      border-top-color: var(--fill-color);\n",
              "      border-right-color: var(--fill-color);\n",
              "    }\n",
              "    40% {\n",
              "      border-color: transparent;\n",
              "      border-right-color: var(--fill-color);\n",
              "      border-top-color: var(--fill-color);\n",
              "    }\n",
              "    60% {\n",
              "      border-color: transparent;\n",
              "      border-right-color: var(--fill-color);\n",
              "    }\n",
              "    80% {\n",
              "      border-color: transparent;\n",
              "      border-right-color: var(--fill-color);\n",
              "      border-bottom-color: var(--fill-color);\n",
              "    }\n",
              "    90% {\n",
              "      border-color: transparent;\n",
              "      border-bottom-color: var(--fill-color);\n",
              "    }\n",
              "  }\n",
              "</style>\n",
              "\n",
              "  <script>\n",
              "    async function quickchart(key) {\n",
              "      const quickchartButtonEl =\n",
              "        document.querySelector('#' + key + ' button');\n",
              "      quickchartButtonEl.disabled = true;  // To prevent multiple clicks.\n",
              "      quickchartButtonEl.classList.add('colab-df-spinner');\n",
              "      try {\n",
              "        const charts = await google.colab.kernel.invokeFunction(\n",
              "            'suggestCharts', [key], {});\n",
              "      } catch (error) {\n",
              "        console.error('Error during call to suggestCharts:', error);\n",
              "      }\n",
              "      quickchartButtonEl.classList.remove('colab-df-spinner');\n",
              "      quickchartButtonEl.classList.add('colab-df-quickchart-complete');\n",
              "    }\n",
              "    (() => {\n",
              "      let quickchartButtonEl =\n",
              "        document.querySelector('#df-a87ab42e-b452-49dc-9336-d28bf50b6c59 button');\n",
              "      quickchartButtonEl.style.display =\n",
              "        google.colab.kernel.accessAllowed ? 'block' : 'none';\n",
              "    })();\n",
              "  </script>\n",
              "</div>\n",
              "\n",
              "    </div>\n",
              "  </div>\n"
            ],
            "application/vnd.google.colaboratory.intrinsic+json": {
              "type": "dataframe",
              "variable_name": "sales_data",
              "summary": "{\n  \"name\": \"sales_data\",\n  \"rows\": 99457,\n  \"fields\": [\n    {\n      \"column\": \"invoice_no\",\n      \"properties\": {\n        \"dtype\": \"string\",\n        \"num_unique_values\": 99457,\n        \"samples\": [\n          \"I704758\",\n          \"I218404\",\n          \"I195516\"\n        ],\n        \"semantic_type\": \"\",\n        \"description\": \"\"\n      }\n    },\n    {\n      \"column\": \"customer_id\",\n      \"properties\": {\n        \"dtype\": \"string\",\n        \"num_unique_values\": 99457,\n        \"samples\": [\n          \"C971218\",\n          \"C949846\",\n          \"C440398\"\n        ],\n        \"semantic_type\": \"\",\n        \"description\": \"\"\n      }\n    },\n    {\n      \"column\": \"category\",\n      \"properties\": {\n        \"dtype\": \"category\",\n        \"num_unique_values\": 8,\n        \"samples\": [\n          \"Shoes\",\n          \"Toys\",\n          \"Clothing\"\n        ],\n        \"semantic_type\": \"\",\n        \"description\": \"\"\n      }\n    },\n    {\n      \"column\": \"quantity\",\n      \"properties\": {\n        \"dtype\": \"number\",\n        \"std\": 1,\n        \"min\": 1,\n        \"max\": 5,\n        \"num_unique_values\": 5,\n        \"samples\": [\n          3,\n          2,\n          1\n        ],\n        \"semantic_type\": \"\",\n        \"description\": \"\"\n      }\n    },\n    {\n      \"column\": \"invoice date\",\n      \"properties\": {\n        \"dtype\": \"object\",\n        \"num_unique_values\": 797,\n        \"samples\": [\n          \"09/07/2022\",\n          \"10/14/2022\",\n          \"01/22/2022\"\n        ],\n        \"semantic_type\": \"\",\n        \"description\": \"\"\n      }\n    },\n    {\n      \"column\": \"price\",\n      \"properties\": {\n        \"dtype\": \"number\",\n        \"std\": 941.1845672157425,\n        \"min\": 5.23,\n        \"max\": 5250.0,\n        \"num_unique_values\": 40,\n        \"samples\": [\n          121.98,\n          71.68,\n          75.75\n        ],\n        \"semantic_type\": \"\",\n        \"description\": \"\"\n      }\n    },\n    {\n      \"column\": \"shopping_mall\",\n      \"properties\": {\n        \"dtype\": \"category\",\n        \"num_unique_values\": 10,\n        \"samples\": [\n          \"Glendale Galleria\",\n          \"Beverly Center\",\n          \"Del Amo Fashion Center\"\n        ],\n        \"semantic_type\": \"\",\n        \"description\": \"\"\n      }\n    }\n  ]\n}"
            }
          },
          "metadata": {},
          "execution_count": 3
        }
      ]
    },
    {
      "cell_type": "code",
      "source": [
        "sales_data.info()"
      ],
      "metadata": {
        "colab": {
          "base_uri": "https://localhost:8080/"
        },
        "id": "pYOCvzbbHPOJ",
        "outputId": "32a0f4c0-c2a5-45e1-d293-97bbb4bf5c40"
      },
      "execution_count": null,
      "outputs": [
        {
          "output_type": "stream",
          "name": "stdout",
          "text": [
            "<class 'pandas.core.frame.DataFrame'>\n",
            "RangeIndex: 99457 entries, 0 to 99456\n",
            "Data columns (total 7 columns):\n",
            " #   Column         Non-Null Count  Dtype  \n",
            "---  ------         --------------  -----  \n",
            " 0   invoice_no     99457 non-null  object \n",
            " 1   customer_id    99457 non-null  object \n",
            " 2   category       99457 non-null  object \n",
            " 3   quantity       99457 non-null  int64  \n",
            " 4   invoice date   99457 non-null  object \n",
            " 5   price          99457 non-null  float64\n",
            " 6   shopping_mall  99457 non-null  object \n",
            "dtypes: float64(1), int64(1), object(5)\n",
            "memory usage: 5.3+ MB\n"
          ]
        }
      ]
    },
    {
      "cell_type": "code",
      "source": [
        "print(\"Customer Data:\")\n",
        "customer_data.head()"
      ],
      "metadata": {
        "colab": {
          "base_uri": "https://localhost:8080/",
          "height": 223
        },
        "id": "2L8wxHmc-SNw",
        "outputId": "b426dd8e-2363-410a-9c67-1352e688dfc7"
      },
      "execution_count": null,
      "outputs": [
        {
          "output_type": "stream",
          "name": "stdout",
          "text": [
            "Customer Data:\n"
          ]
        },
        {
          "output_type": "execute_result",
          "data": {
            "text/plain": [
              "  customer_id  gender   age payment_method\n",
              "0     C241288  Female  28.0    Credit Card\n",
              "1     C111565    Male  21.0     Debit Card\n",
              "2     C266599    Male  20.0           Cash\n",
              "3     C988172  Female  66.0    Credit Card\n",
              "4     C189076  Female  53.0           Cash"
            ],
            "text/html": [
              "\n",
              "  <div id=\"df-28c0055a-f452-4e1c-aec3-d9c2218462e1\" class=\"colab-df-container\">\n",
              "    <div>\n",
              "<style scoped>\n",
              "    .dataframe tbody tr th:only-of-type {\n",
              "        vertical-align: middle;\n",
              "    }\n",
              "\n",
              "    .dataframe tbody tr th {\n",
              "        vertical-align: top;\n",
              "    }\n",
              "\n",
              "    .dataframe thead th {\n",
              "        text-align: right;\n",
              "    }\n",
              "</style>\n",
              "<table border=\"1\" class=\"dataframe\">\n",
              "  <thead>\n",
              "    <tr style=\"text-align: right;\">\n",
              "      <th></th>\n",
              "      <th>customer_id</th>\n",
              "      <th>gender</th>\n",
              "      <th>age</th>\n",
              "      <th>payment_method</th>\n",
              "    </tr>\n",
              "  </thead>\n",
              "  <tbody>\n",
              "    <tr>\n",
              "      <th>0</th>\n",
              "      <td>C241288</td>\n",
              "      <td>Female</td>\n",
              "      <td>28.0</td>\n",
              "      <td>Credit Card</td>\n",
              "    </tr>\n",
              "    <tr>\n",
              "      <th>1</th>\n",
              "      <td>C111565</td>\n",
              "      <td>Male</td>\n",
              "      <td>21.0</td>\n",
              "      <td>Debit Card</td>\n",
              "    </tr>\n",
              "    <tr>\n",
              "      <th>2</th>\n",
              "      <td>C266599</td>\n",
              "      <td>Male</td>\n",
              "      <td>20.0</td>\n",
              "      <td>Cash</td>\n",
              "    </tr>\n",
              "    <tr>\n",
              "      <th>3</th>\n",
              "      <td>C988172</td>\n",
              "      <td>Female</td>\n",
              "      <td>66.0</td>\n",
              "      <td>Credit Card</td>\n",
              "    </tr>\n",
              "    <tr>\n",
              "      <th>4</th>\n",
              "      <td>C189076</td>\n",
              "      <td>Female</td>\n",
              "      <td>53.0</td>\n",
              "      <td>Cash</td>\n",
              "    </tr>\n",
              "  </tbody>\n",
              "</table>\n",
              "</div>\n",
              "    <div class=\"colab-df-buttons\">\n",
              "\n",
              "  <div class=\"colab-df-container\">\n",
              "    <button class=\"colab-df-convert\" onclick=\"convertToInteractive('df-28c0055a-f452-4e1c-aec3-d9c2218462e1')\"\n",
              "            title=\"Convert this dataframe to an interactive table.\"\n",
              "            style=\"display:none;\">\n",
              "\n",
              "  <svg xmlns=\"http://www.w3.org/2000/svg\" height=\"24px\" viewBox=\"0 -960 960 960\">\n",
              "    <path d=\"M120-120v-720h720v720H120Zm60-500h600v-160H180v160Zm220 220h160v-160H400v160Zm0 220h160v-160H400v160ZM180-400h160v-160H180v160Zm440 0h160v-160H620v160ZM180-180h160v-160H180v160Zm440 0h160v-160H620v160Z\"/>\n",
              "  </svg>\n",
              "    </button>\n",
              "\n",
              "  <style>\n",
              "    .colab-df-container {\n",
              "      display:flex;\n",
              "      gap: 12px;\n",
              "    }\n",
              "\n",
              "    .colab-df-convert {\n",
              "      background-color: #E8F0FE;\n",
              "      border: none;\n",
              "      border-radius: 50%;\n",
              "      cursor: pointer;\n",
              "      display: none;\n",
              "      fill: #1967D2;\n",
              "      height: 32px;\n",
              "      padding: 0 0 0 0;\n",
              "      width: 32px;\n",
              "    }\n",
              "\n",
              "    .colab-df-convert:hover {\n",
              "      background-color: #E2EBFA;\n",
              "      box-shadow: 0px 1px 2px rgba(60, 64, 67, 0.3), 0px 1px 3px 1px rgba(60, 64, 67, 0.15);\n",
              "      fill: #174EA6;\n",
              "    }\n",
              "\n",
              "    .colab-df-buttons div {\n",
              "      margin-bottom: 4px;\n",
              "    }\n",
              "\n",
              "    [theme=dark] .colab-df-convert {\n",
              "      background-color: #3B4455;\n",
              "      fill: #D2E3FC;\n",
              "    }\n",
              "\n",
              "    [theme=dark] .colab-df-convert:hover {\n",
              "      background-color: #434B5C;\n",
              "      box-shadow: 0px 1px 3px 1px rgba(0, 0, 0, 0.15);\n",
              "      filter: drop-shadow(0px 1px 2px rgba(0, 0, 0, 0.3));\n",
              "      fill: #FFFFFF;\n",
              "    }\n",
              "  </style>\n",
              "\n",
              "    <script>\n",
              "      const buttonEl =\n",
              "        document.querySelector('#df-28c0055a-f452-4e1c-aec3-d9c2218462e1 button.colab-df-convert');\n",
              "      buttonEl.style.display =\n",
              "        google.colab.kernel.accessAllowed ? 'block' : 'none';\n",
              "\n",
              "      async function convertToInteractive(key) {\n",
              "        const element = document.querySelector('#df-28c0055a-f452-4e1c-aec3-d9c2218462e1');\n",
              "        const dataTable =\n",
              "          await google.colab.kernel.invokeFunction('convertToInteractive',\n",
              "                                                    [key], {});\n",
              "        if (!dataTable) return;\n",
              "\n",
              "        const docLinkHtml = 'Like what you see? Visit the ' +\n",
              "          '<a target=\"_blank\" href=https://colab.research.google.com/notebooks/data_table.ipynb>data table notebook</a>'\n",
              "          + ' to learn more about interactive tables.';\n",
              "        element.innerHTML = '';\n",
              "        dataTable['output_type'] = 'display_data';\n",
              "        await google.colab.output.renderOutput(dataTable, element);\n",
              "        const docLink = document.createElement('div');\n",
              "        docLink.innerHTML = docLinkHtml;\n",
              "        element.appendChild(docLink);\n",
              "      }\n",
              "    </script>\n",
              "  </div>\n",
              "\n",
              "\n",
              "<div id=\"df-d95fdec2-e64b-464f-958e-9910ad54ed26\">\n",
              "  <button class=\"colab-df-quickchart\" onclick=\"quickchart('df-d95fdec2-e64b-464f-958e-9910ad54ed26')\"\n",
              "            title=\"Suggest charts\"\n",
              "            style=\"display:none;\">\n",
              "\n",
              "<svg xmlns=\"http://www.w3.org/2000/svg\" height=\"24px\"viewBox=\"0 0 24 24\"\n",
              "     width=\"24px\">\n",
              "    <g>\n",
              "        <path d=\"M19 3H5c-1.1 0-2 .9-2 2v14c0 1.1.9 2 2 2h14c1.1 0 2-.9 2-2V5c0-1.1-.9-2-2-2zM9 17H7v-7h2v7zm4 0h-2V7h2v10zm4 0h-2v-4h2v4z\"/>\n",
              "    </g>\n",
              "</svg>\n",
              "  </button>\n",
              "\n",
              "<style>\n",
              "  .colab-df-quickchart {\n",
              "      --bg-color: #E8F0FE;\n",
              "      --fill-color: #1967D2;\n",
              "      --hover-bg-color: #E2EBFA;\n",
              "      --hover-fill-color: #174EA6;\n",
              "      --disabled-fill-color: #AAA;\n",
              "      --disabled-bg-color: #DDD;\n",
              "  }\n",
              "\n",
              "  [theme=dark] .colab-df-quickchart {\n",
              "      --bg-color: #3B4455;\n",
              "      --fill-color: #D2E3FC;\n",
              "      --hover-bg-color: #434B5C;\n",
              "      --hover-fill-color: #FFFFFF;\n",
              "      --disabled-bg-color: #3B4455;\n",
              "      --disabled-fill-color: #666;\n",
              "  }\n",
              "\n",
              "  .colab-df-quickchart {\n",
              "    background-color: var(--bg-color);\n",
              "    border: none;\n",
              "    border-radius: 50%;\n",
              "    cursor: pointer;\n",
              "    display: none;\n",
              "    fill: var(--fill-color);\n",
              "    height: 32px;\n",
              "    padding: 0;\n",
              "    width: 32px;\n",
              "  }\n",
              "\n",
              "  .colab-df-quickchart:hover {\n",
              "    background-color: var(--hover-bg-color);\n",
              "    box-shadow: 0 1px 2px rgba(60, 64, 67, 0.3), 0 1px 3px 1px rgba(60, 64, 67, 0.15);\n",
              "    fill: var(--button-hover-fill-color);\n",
              "  }\n",
              "\n",
              "  .colab-df-quickchart-complete:disabled,\n",
              "  .colab-df-quickchart-complete:disabled:hover {\n",
              "    background-color: var(--disabled-bg-color);\n",
              "    fill: var(--disabled-fill-color);\n",
              "    box-shadow: none;\n",
              "  }\n",
              "\n",
              "  .colab-df-spinner {\n",
              "    border: 2px solid var(--fill-color);\n",
              "    border-color: transparent;\n",
              "    border-bottom-color: var(--fill-color);\n",
              "    animation:\n",
              "      spin 1s steps(1) infinite;\n",
              "  }\n",
              "\n",
              "  @keyframes spin {\n",
              "    0% {\n",
              "      border-color: transparent;\n",
              "      border-bottom-color: var(--fill-color);\n",
              "      border-left-color: var(--fill-color);\n",
              "    }\n",
              "    20% {\n",
              "      border-color: transparent;\n",
              "      border-left-color: var(--fill-color);\n",
              "      border-top-color: var(--fill-color);\n",
              "    }\n",
              "    30% {\n",
              "      border-color: transparent;\n",
              "      border-left-color: var(--fill-color);\n",
              "      border-top-color: var(--fill-color);\n",
              "      border-right-color: var(--fill-color);\n",
              "    }\n",
              "    40% {\n",
              "      border-color: transparent;\n",
              "      border-right-color: var(--fill-color);\n",
              "      border-top-color: var(--fill-color);\n",
              "    }\n",
              "    60% {\n",
              "      border-color: transparent;\n",
              "      border-right-color: var(--fill-color);\n",
              "    }\n",
              "    80% {\n",
              "      border-color: transparent;\n",
              "      border-right-color: var(--fill-color);\n",
              "      border-bottom-color: var(--fill-color);\n",
              "    }\n",
              "    90% {\n",
              "      border-color: transparent;\n",
              "      border-bottom-color: var(--fill-color);\n",
              "    }\n",
              "  }\n",
              "</style>\n",
              "\n",
              "  <script>\n",
              "    async function quickchart(key) {\n",
              "      const quickchartButtonEl =\n",
              "        document.querySelector('#' + key + ' button');\n",
              "      quickchartButtonEl.disabled = true;  // To prevent multiple clicks.\n",
              "      quickchartButtonEl.classList.add('colab-df-spinner');\n",
              "      try {\n",
              "        const charts = await google.colab.kernel.invokeFunction(\n",
              "            'suggestCharts', [key], {});\n",
              "      } catch (error) {\n",
              "        console.error('Error during call to suggestCharts:', error);\n",
              "      }\n",
              "      quickchartButtonEl.classList.remove('colab-df-spinner');\n",
              "      quickchartButtonEl.classList.add('colab-df-quickchart-complete');\n",
              "    }\n",
              "    (() => {\n",
              "      let quickchartButtonEl =\n",
              "        document.querySelector('#df-d95fdec2-e64b-464f-958e-9910ad54ed26 button');\n",
              "      quickchartButtonEl.style.display =\n",
              "        google.colab.kernel.accessAllowed ? 'block' : 'none';\n",
              "    })();\n",
              "  </script>\n",
              "</div>\n",
              "\n",
              "    </div>\n",
              "  </div>\n"
            ],
            "application/vnd.google.colaboratory.intrinsic+json": {
              "type": "dataframe",
              "variable_name": "customer_data",
              "summary": "{\n  \"name\": \"customer_data\",\n  \"rows\": 99457,\n  \"fields\": [\n    {\n      \"column\": \"customer_id\",\n      \"properties\": {\n        \"dtype\": \"string\",\n        \"num_unique_values\": 99457,\n        \"samples\": [\n          \"C971218\",\n          \"C949846\",\n          \"C440398\"\n        ],\n        \"semantic_type\": \"\",\n        \"description\": \"\"\n      }\n    },\n    {\n      \"column\": \"gender\",\n      \"properties\": {\n        \"dtype\": \"category\",\n        \"num_unique_values\": 2,\n        \"samples\": [\n          \"Male\",\n          \"Female\"\n        ],\n        \"semantic_type\": \"\",\n        \"description\": \"\"\n      }\n    },\n    {\n      \"column\": \"age\",\n      \"properties\": {\n        \"dtype\": \"number\",\n        \"std\": 14.989399817801646,\n        \"min\": 18.0,\n        \"max\": 69.0,\n        \"num_unique_values\": 52,\n        \"samples\": [\n          52.0,\n          57.0\n        ],\n        \"semantic_type\": \"\",\n        \"description\": \"\"\n      }\n    },\n    {\n      \"column\": \"payment_method\",\n      \"properties\": {\n        \"dtype\": \"category\",\n        \"num_unique_values\": 3,\n        \"samples\": [\n          \"Credit Card\",\n          \"Debit Card\"\n        ],\n        \"semantic_type\": \"\",\n        \"description\": \"\"\n      }\n    }\n  ]\n}"
            }
          },
          "metadata": {},
          "execution_count": 5
        }
      ]
    },
    {
      "cell_type": "code",
      "source": [
        "customer_data.info()"
      ],
      "metadata": {
        "colab": {
          "base_uri": "https://localhost:8080/"
        },
        "id": "v579T8XaHLvB",
        "outputId": "ae81196b-bc1f-4323-b8ad-3c8370119bef"
      },
      "execution_count": null,
      "outputs": [
        {
          "output_type": "stream",
          "name": "stdout",
          "text": [
            "<class 'pandas.core.frame.DataFrame'>\n",
            "RangeIndex: 99457 entries, 0 to 99456\n",
            "Data columns (total 4 columns):\n",
            " #   Column          Non-Null Count  Dtype  \n",
            "---  ------          --------------  -----  \n",
            " 0   customer_id     99457 non-null  object \n",
            " 1   gender          99457 non-null  object \n",
            " 2   age             99338 non-null  float64\n",
            " 3   payment_method  99457 non-null  object \n",
            "dtypes: float64(1), object(3)\n",
            "memory usage: 3.0+ MB\n"
          ]
        }
      ]
    },
    {
      "cell_type": "code",
      "source": [
        "print(\"Shopping Mall Data:\")\n",
        "shopping_mall_data.head()"
      ],
      "metadata": {
        "colab": {
          "base_uri": "https://localhost:8080/",
          "height": 223
        },
        "id": "1ltZkZ1b-TQJ",
        "outputId": "79eb0231-6107-4819-9c84-604a2c8f0388"
      },
      "execution_count": null,
      "outputs": [
        {
          "output_type": "stream",
          "name": "stdout",
          "text": [
            "Shopping Mall Data:\n"
          ]
        },
        {
          "output_type": "execute_result",
          "data": {
            "text/plain": [
              "            shopping_mall  construction_year  area (sqm)     location  \\\n",
              "0       South Coast Plaza               1967      250000   Costa Mesa   \n",
              "1   Westfield Valley Fair               1986      220000  Santa Clara   \n",
              "2               The Grove               2002       56000  Los Angeles   \n",
              "3  Westfield Century City               1964      133000  Los Angeles   \n",
              "4          Beverly Center               1982      111000  Los Angeles   \n",
              "\n",
              "   store_count  \n",
              "0          270  \n",
              "1          230  \n",
              "2          140  \n",
              "3          200  \n",
              "4          160  "
            ],
            "text/html": [
              "\n",
              "  <div id=\"df-920e674f-8495-48fb-8880-026ef905af4e\" class=\"colab-df-container\">\n",
              "    <div>\n",
              "<style scoped>\n",
              "    .dataframe tbody tr th:only-of-type {\n",
              "        vertical-align: middle;\n",
              "    }\n",
              "\n",
              "    .dataframe tbody tr th {\n",
              "        vertical-align: top;\n",
              "    }\n",
              "\n",
              "    .dataframe thead th {\n",
              "        text-align: right;\n",
              "    }\n",
              "</style>\n",
              "<table border=\"1\" class=\"dataframe\">\n",
              "  <thead>\n",
              "    <tr style=\"text-align: right;\">\n",
              "      <th></th>\n",
              "      <th>shopping_mall</th>\n",
              "      <th>construction_year</th>\n",
              "      <th>area (sqm)</th>\n",
              "      <th>location</th>\n",
              "      <th>store_count</th>\n",
              "    </tr>\n",
              "  </thead>\n",
              "  <tbody>\n",
              "    <tr>\n",
              "      <th>0</th>\n",
              "      <td>South Coast Plaza</td>\n",
              "      <td>1967</td>\n",
              "      <td>250000</td>\n",
              "      <td>Costa Mesa</td>\n",
              "      <td>270</td>\n",
              "    </tr>\n",
              "    <tr>\n",
              "      <th>1</th>\n",
              "      <td>Westfield Valley Fair</td>\n",
              "      <td>1986</td>\n",
              "      <td>220000</td>\n",
              "      <td>Santa Clara</td>\n",
              "      <td>230</td>\n",
              "    </tr>\n",
              "    <tr>\n",
              "      <th>2</th>\n",
              "      <td>The Grove</td>\n",
              "      <td>2002</td>\n",
              "      <td>56000</td>\n",
              "      <td>Los Angeles</td>\n",
              "      <td>140</td>\n",
              "    </tr>\n",
              "    <tr>\n",
              "      <th>3</th>\n",
              "      <td>Westfield Century City</td>\n",
              "      <td>1964</td>\n",
              "      <td>133000</td>\n",
              "      <td>Los Angeles</td>\n",
              "      <td>200</td>\n",
              "    </tr>\n",
              "    <tr>\n",
              "      <th>4</th>\n",
              "      <td>Beverly Center</td>\n",
              "      <td>1982</td>\n",
              "      <td>111000</td>\n",
              "      <td>Los Angeles</td>\n",
              "      <td>160</td>\n",
              "    </tr>\n",
              "  </tbody>\n",
              "</table>\n",
              "</div>\n",
              "    <div class=\"colab-df-buttons\">\n",
              "\n",
              "  <div class=\"colab-df-container\">\n",
              "    <button class=\"colab-df-convert\" onclick=\"convertToInteractive('df-920e674f-8495-48fb-8880-026ef905af4e')\"\n",
              "            title=\"Convert this dataframe to an interactive table.\"\n",
              "            style=\"display:none;\">\n",
              "\n",
              "  <svg xmlns=\"http://www.w3.org/2000/svg\" height=\"24px\" viewBox=\"0 -960 960 960\">\n",
              "    <path d=\"M120-120v-720h720v720H120Zm60-500h600v-160H180v160Zm220 220h160v-160H400v160Zm0 220h160v-160H400v160ZM180-400h160v-160H180v160Zm440 0h160v-160H620v160ZM180-180h160v-160H180v160Zm440 0h160v-160H620v160Z\"/>\n",
              "  </svg>\n",
              "    </button>\n",
              "\n",
              "  <style>\n",
              "    .colab-df-container {\n",
              "      display:flex;\n",
              "      gap: 12px;\n",
              "    }\n",
              "\n",
              "    .colab-df-convert {\n",
              "      background-color: #E8F0FE;\n",
              "      border: none;\n",
              "      border-radius: 50%;\n",
              "      cursor: pointer;\n",
              "      display: none;\n",
              "      fill: #1967D2;\n",
              "      height: 32px;\n",
              "      padding: 0 0 0 0;\n",
              "      width: 32px;\n",
              "    }\n",
              "\n",
              "    .colab-df-convert:hover {\n",
              "      background-color: #E2EBFA;\n",
              "      box-shadow: 0px 1px 2px rgba(60, 64, 67, 0.3), 0px 1px 3px 1px rgba(60, 64, 67, 0.15);\n",
              "      fill: #174EA6;\n",
              "    }\n",
              "\n",
              "    .colab-df-buttons div {\n",
              "      margin-bottom: 4px;\n",
              "    }\n",
              "\n",
              "    [theme=dark] .colab-df-convert {\n",
              "      background-color: #3B4455;\n",
              "      fill: #D2E3FC;\n",
              "    }\n",
              "\n",
              "    [theme=dark] .colab-df-convert:hover {\n",
              "      background-color: #434B5C;\n",
              "      box-shadow: 0px 1px 3px 1px rgba(0, 0, 0, 0.15);\n",
              "      filter: drop-shadow(0px 1px 2px rgba(0, 0, 0, 0.3));\n",
              "      fill: #FFFFFF;\n",
              "    }\n",
              "  </style>\n",
              "\n",
              "    <script>\n",
              "      const buttonEl =\n",
              "        document.querySelector('#df-920e674f-8495-48fb-8880-026ef905af4e button.colab-df-convert');\n",
              "      buttonEl.style.display =\n",
              "        google.colab.kernel.accessAllowed ? 'block' : 'none';\n",
              "\n",
              "      async function convertToInteractive(key) {\n",
              "        const element = document.querySelector('#df-920e674f-8495-48fb-8880-026ef905af4e');\n",
              "        const dataTable =\n",
              "          await google.colab.kernel.invokeFunction('convertToInteractive',\n",
              "                                                    [key], {});\n",
              "        if (!dataTable) return;\n",
              "\n",
              "        const docLinkHtml = 'Like what you see? Visit the ' +\n",
              "          '<a target=\"_blank\" href=https://colab.research.google.com/notebooks/data_table.ipynb>data table notebook</a>'\n",
              "          + ' to learn more about interactive tables.';\n",
              "        element.innerHTML = '';\n",
              "        dataTable['output_type'] = 'display_data';\n",
              "        await google.colab.output.renderOutput(dataTable, element);\n",
              "        const docLink = document.createElement('div');\n",
              "        docLink.innerHTML = docLinkHtml;\n",
              "        element.appendChild(docLink);\n",
              "      }\n",
              "    </script>\n",
              "  </div>\n",
              "\n",
              "\n",
              "<div id=\"df-2bd73c5f-b7c1-4fec-b022-f504c136825e\">\n",
              "  <button class=\"colab-df-quickchart\" onclick=\"quickchart('df-2bd73c5f-b7c1-4fec-b022-f504c136825e')\"\n",
              "            title=\"Suggest charts\"\n",
              "            style=\"display:none;\">\n",
              "\n",
              "<svg xmlns=\"http://www.w3.org/2000/svg\" height=\"24px\"viewBox=\"0 0 24 24\"\n",
              "     width=\"24px\">\n",
              "    <g>\n",
              "        <path d=\"M19 3H5c-1.1 0-2 .9-2 2v14c0 1.1.9 2 2 2h14c1.1 0 2-.9 2-2V5c0-1.1-.9-2-2-2zM9 17H7v-7h2v7zm4 0h-2V7h2v10zm4 0h-2v-4h2v4z\"/>\n",
              "    </g>\n",
              "</svg>\n",
              "  </button>\n",
              "\n",
              "<style>\n",
              "  .colab-df-quickchart {\n",
              "      --bg-color: #E8F0FE;\n",
              "      --fill-color: #1967D2;\n",
              "      --hover-bg-color: #E2EBFA;\n",
              "      --hover-fill-color: #174EA6;\n",
              "      --disabled-fill-color: #AAA;\n",
              "      --disabled-bg-color: #DDD;\n",
              "  }\n",
              "\n",
              "  [theme=dark] .colab-df-quickchart {\n",
              "      --bg-color: #3B4455;\n",
              "      --fill-color: #D2E3FC;\n",
              "      --hover-bg-color: #434B5C;\n",
              "      --hover-fill-color: #FFFFFF;\n",
              "      --disabled-bg-color: #3B4455;\n",
              "      --disabled-fill-color: #666;\n",
              "  }\n",
              "\n",
              "  .colab-df-quickchart {\n",
              "    background-color: var(--bg-color);\n",
              "    border: none;\n",
              "    border-radius: 50%;\n",
              "    cursor: pointer;\n",
              "    display: none;\n",
              "    fill: var(--fill-color);\n",
              "    height: 32px;\n",
              "    padding: 0;\n",
              "    width: 32px;\n",
              "  }\n",
              "\n",
              "  .colab-df-quickchart:hover {\n",
              "    background-color: var(--hover-bg-color);\n",
              "    box-shadow: 0 1px 2px rgba(60, 64, 67, 0.3), 0 1px 3px 1px rgba(60, 64, 67, 0.15);\n",
              "    fill: var(--button-hover-fill-color);\n",
              "  }\n",
              "\n",
              "  .colab-df-quickchart-complete:disabled,\n",
              "  .colab-df-quickchart-complete:disabled:hover {\n",
              "    background-color: var(--disabled-bg-color);\n",
              "    fill: var(--disabled-fill-color);\n",
              "    box-shadow: none;\n",
              "  }\n",
              "\n",
              "  .colab-df-spinner {\n",
              "    border: 2px solid var(--fill-color);\n",
              "    border-color: transparent;\n",
              "    border-bottom-color: var(--fill-color);\n",
              "    animation:\n",
              "      spin 1s steps(1) infinite;\n",
              "  }\n",
              "\n",
              "  @keyframes spin {\n",
              "    0% {\n",
              "      border-color: transparent;\n",
              "      border-bottom-color: var(--fill-color);\n",
              "      border-left-color: var(--fill-color);\n",
              "    }\n",
              "    20% {\n",
              "      border-color: transparent;\n",
              "      border-left-color: var(--fill-color);\n",
              "      border-top-color: var(--fill-color);\n",
              "    }\n",
              "    30% {\n",
              "      border-color: transparent;\n",
              "      border-left-color: var(--fill-color);\n",
              "      border-top-color: var(--fill-color);\n",
              "      border-right-color: var(--fill-color);\n",
              "    }\n",
              "    40% {\n",
              "      border-color: transparent;\n",
              "      border-right-color: var(--fill-color);\n",
              "      border-top-color: var(--fill-color);\n",
              "    }\n",
              "    60% {\n",
              "      border-color: transparent;\n",
              "      border-right-color: var(--fill-color);\n",
              "    }\n",
              "    80% {\n",
              "      border-color: transparent;\n",
              "      border-right-color: var(--fill-color);\n",
              "      border-bottom-color: var(--fill-color);\n",
              "    }\n",
              "    90% {\n",
              "      border-color: transparent;\n",
              "      border-bottom-color: var(--fill-color);\n",
              "    }\n",
              "  }\n",
              "</style>\n",
              "\n",
              "  <script>\n",
              "    async function quickchart(key) {\n",
              "      const quickchartButtonEl =\n",
              "        document.querySelector('#' + key + ' button');\n",
              "      quickchartButtonEl.disabled = true;  // To prevent multiple clicks.\n",
              "      quickchartButtonEl.classList.add('colab-df-spinner');\n",
              "      try {\n",
              "        const charts = await google.colab.kernel.invokeFunction(\n",
              "            'suggestCharts', [key], {});\n",
              "      } catch (error) {\n",
              "        console.error('Error during call to suggestCharts:', error);\n",
              "      }\n",
              "      quickchartButtonEl.classList.remove('colab-df-spinner');\n",
              "      quickchartButtonEl.classList.add('colab-df-quickchart-complete');\n",
              "    }\n",
              "    (() => {\n",
              "      let quickchartButtonEl =\n",
              "        document.querySelector('#df-2bd73c5f-b7c1-4fec-b022-f504c136825e button');\n",
              "      quickchartButtonEl.style.display =\n",
              "        google.colab.kernel.accessAllowed ? 'block' : 'none';\n",
              "    })();\n",
              "  </script>\n",
              "</div>\n",
              "\n",
              "    </div>\n",
              "  </div>\n"
            ],
            "application/vnd.google.colaboratory.intrinsic+json": {
              "type": "dataframe",
              "variable_name": "shopping_mall_data",
              "summary": "{\n  \"name\": \"shopping_mall_data\",\n  \"rows\": 10,\n  \"fields\": [\n    {\n      \"column\": \"shopping_mall\",\n      \"properties\": {\n        \"dtype\": \"string\",\n        \"num_unique_values\": 10,\n        \"samples\": [\n          \"Irvine Spectrum Center\",\n          \"Westfield Valley Fair\",\n          \"Fashion Valley\"\n        ],\n        \"semantic_type\": \"\",\n        \"description\": \"\"\n      }\n    },\n    {\n      \"column\": \"construction_year\",\n      \"properties\": {\n        \"dtype\": \"number\",\n        \"std\": 14,\n        \"min\": 1956,\n        \"max\": 2002,\n        \"num_unique_values\": 10,\n        \"samples\": [\n          1995,\n          1986,\n          1977\n        ],\n        \"semantic_type\": \"\",\n        \"description\": \"\"\n      }\n    },\n    {\n      \"column\": \"area (sqm)\",\n      \"properties\": {\n        \"dtype\": \"number\",\n        \"std\": 61450,\n        \"min\": 56000,\n        \"max\": 250000,\n        \"num_unique_values\": 9,\n        \"samples\": [\n          145000,\n          220000,\n          161000\n        ],\n        \"semantic_type\": \"\",\n        \"description\": \"\"\n      }\n    },\n    {\n      \"column\": \"location\",\n      \"properties\": {\n        \"dtype\": \"string\",\n        \"num_unique_values\": 8,\n        \"samples\": [\n          \"Santa Clara\",\n          \"Glendale\",\n          \"Costa Mesa\"\n        ],\n        \"semantic_type\": \"\",\n        \"description\": \"\"\n      }\n    },\n    {\n      \"column\": \"store_count\",\n      \"properties\": {\n        \"dtype\": \"number\",\n        \"std\": 45,\n        \"min\": 130,\n        \"max\": 270,\n        \"num_unique_values\": 9,\n        \"samples\": [\n          130,\n          230,\n          180\n        ],\n        \"semantic_type\": \"\",\n        \"description\": \"\"\n      }\n    }\n  ]\n}"
            }
          },
          "metadata": {},
          "execution_count": 7
        }
      ]
    },
    {
      "cell_type": "code",
      "source": [
        "shopping_mall_data.info()"
      ],
      "metadata": {
        "colab": {
          "base_uri": "https://localhost:8080/"
        },
        "id": "IjJfx9QdHGdY",
        "outputId": "749ecd93-04d2-430d-f011-93203f2300cd"
      },
      "execution_count": null,
      "outputs": [
        {
          "output_type": "stream",
          "name": "stdout",
          "text": [
            "<class 'pandas.core.frame.DataFrame'>\n",
            "RangeIndex: 10 entries, 0 to 9\n",
            "Data columns (total 5 columns):\n",
            " #   Column             Non-Null Count  Dtype \n",
            "---  ------             --------------  ----- \n",
            " 0   shopping_mall      10 non-null     object\n",
            " 1   construction_year  10 non-null     int64 \n",
            " 2   area (sqm)         10 non-null     int64 \n",
            " 3   location           10 non-null     object\n",
            " 4   store_count        10 non-null     int64 \n",
            "dtypes: int64(3), object(2)\n",
            "memory usage: 532.0+ bytes\n"
          ]
        }
      ]
    },
    {
      "cell_type": "markdown",
      "source": [
        "### 2. Checking for Duplicates"
      ],
      "metadata": {
        "id": "5jqQulQ483PW"
      }
    },
    {
      "cell_type": "code",
      "source": [
        "print(\"Sales Data Duplicates:\", sales_data.duplicated().sum())\n",
        "print(\"Customer Data Duplicates:\", customer_data.duplicated().sum())\n",
        "print(\"Shopping Mall Data Duplicates:\", shopping_mall_data.duplicated().sum())"
      ],
      "metadata": {
        "colab": {
          "base_uri": "https://localhost:8080/"
        },
        "id": "0RQefnj183ee",
        "outputId": "75298e5b-d17a-4519-9f8e-056f703b78d5"
      },
      "execution_count": null,
      "outputs": [
        {
          "output_type": "stream",
          "name": "stdout",
          "text": [
            "Sales Data Duplicates: 0\n",
            "Customer Data Duplicates: 0\n",
            "Shopping Mall Data Duplicates: 0\n"
          ]
        }
      ]
    },
    {
      "cell_type": "markdown",
      "source": [
        "### 3. Checking for Missing Values"
      ],
      "metadata": {
        "id": "gZ2Pq6IN9Mz0"
      }
    },
    {
      "cell_type": "code",
      "source": [
        "# Function to analyze missing values\n",
        "def analyze_missing_values(df, df_name):\n",
        "    missing_values = df.isnull().sum()\n",
        "    missing_percentage = (missing_values / len(df)) * 100\n",
        "    missing_data = pd.DataFrame({'Missing Values': missing_values, 'Percentage': missing_percentage})\n",
        "    missing_data['Percentage'] = missing_data['Percentage'].round(2)\n",
        "    print(f\"\\nMissing Values in {df_name}:\")\n",
        "    print(missing_data)\n",
        "\n",
        "analyze_missing_values(sales_data, 'Sales Data')\n",
        "analyze_missing_values(customer_data, 'Customer Data')\n",
        "analyze_missing_values(shopping_mall_data, 'Shopping Mall Data')"
      ],
      "metadata": {
        "colab": {
          "base_uri": "https://localhost:8080/"
        },
        "id": "7ko0u9rL-BNx",
        "outputId": "3f31bea0-087c-4c10-a411-f1e8bf606622"
      },
      "execution_count": null,
      "outputs": [
        {
          "output_type": "stream",
          "name": "stdout",
          "text": [
            "\n",
            "Missing Values in Sales Data:\n",
            "               Missing Values  Percentage\n",
            "invoice_no                  0         0.0\n",
            "customer_id                 0         0.0\n",
            "category                    0         0.0\n",
            "quantity                    0         0.0\n",
            "invoice date                0         0.0\n",
            "price                       0         0.0\n",
            "shopping_mall               0         0.0\n",
            "\n",
            "Missing Values in Customer Data:\n",
            "                Missing Values  Percentage\n",
            "customer_id                  0        0.00\n",
            "gender                       0        0.00\n",
            "age                        119        0.12\n",
            "payment_method               0        0.00\n",
            "\n",
            "Missing Values in Shopping Mall Data:\n",
            "                   Missing Values  Percentage\n",
            "shopping_mall                   0         0.0\n",
            "construction_year               0         0.0\n",
            "area (sqm)                      0         0.0\n",
            "location                        0         0.0\n",
            "store_count                     0         0.0\n"
          ]
        }
      ]
    },
    {
      "cell_type": "code",
      "source": [
        "# Visualization of missing values with heatmaps\n",
        "sns.heatmap(customer_data.isnull(), cbar=False, cmap='viridis')\n",
        "plt.show()"
      ],
      "metadata": {
        "colab": {
          "base_uri": "https://localhost:8080/",
          "height": 437
        },
        "id": "nq-GTOfC-ry1",
        "outputId": "63f6ff23-11c5-4fcb-e9f9-9367030493d5"
      },
      "execution_count": null,
      "outputs": [
        {
          "output_type": "display_data",
          "data": {
            "text/plain": [
              "<Figure size 640x480 with 1 Axes>"
            ],
            "image/png": "[encoded data removed]"
          },
          "metadata": {}
        }
      ]
    },
    {
      "cell_type": "code",
      "source": [
        "# Check the distribution of missing 'age' values\n",
        "print(\"Rows with missing 'age' values:\")\n",
        "print(customer_data[customer_data['age'].isnull()].head())\n",
        "\n",
        "# Check if missing 'age' values are correlated with other columns\n",
        "print(\"\\nMissing 'age' values by gender:\")\n",
        "print(customer_data[customer_data['age'].isnull()]['gender'].value_counts())\n",
        "\n",
        "print(\"\\nMissing 'age' values by payment_method:\")\n",
        "print(customer_data[customer_data['age'].isnull()]['payment_method'].value_counts())"
      ],
      "metadata": {
        "colab": {
          "base_uri": "https://localhost:8080/"
        },
        "id": "GGwOb6pgguQF",
        "outputId": "71df9b0c-47af-4ef5-c01a-a251ff11b902"
      },
      "execution_count": null,
      "outputs": [
        {
          "output_type": "stream",
          "name": "stdout",
          "text": [
            "Rows with missing 'age' values:\n",
            "   customer_id  gender  age payment_method\n",
            "91     C157070  Female  NaN     Debit Card\n",
            "92     C177975  Female  NaN     Debit Card\n",
            "93     C830576  Female  NaN     Debit Card\n",
            "94     C807389  Female  NaN     Debit Card\n",
            "95     C277842  Female  NaN     Debit Card\n",
            "\n",
            "Missing 'age' values by gender:\n",
            "gender\n",
            "Female    70\n",
            "Male      49\n",
            "Name: count, dtype: int64\n",
            "\n",
            "Missing 'age' values by payment_method:\n",
            "payment_method\n",
            "Cash           50\n",
            "Debit Card     36\n",
            "Credit Card    33\n",
            "Name: count, dtype: int64\n"
          ]
        }
      ]
    },
    {
      "cell_type": "markdown",
      "source": [
        "### 4. Check for inconsistencies in shopping_mall column"
      ],
      "metadata": {
        "id": "xr0vEeIzbXjl"
      }
    },
    {
      "cell_type": "code",
      "source": [
        "# Get unique shopping mall names from both datasets\n",
        "unique_sales_malls = sales_data['shopping_mall'].unique()\n",
        "unique_shopping_malls = shopping_mall_data['shopping_mall'].unique()\n",
        "\n",
        "print(\"Unique Shopping Malls in Sales Data:\")\n",
        "print(unique_sales_malls)\n",
        "print(\"\\nUnique Shopping Malls in Shopping Mall Data:\")\n",
        "print(unique_shopping_malls)\n",
        "\n",
        "mismatched_malls = set(unique_sales_malls) - set(unique_shopping_malls)\n",
        "print(\"\\nMismatched Shopping Malls (in Sales Data but not in Shopping Mall Data):\")\n",
        "print(mismatched_malls)"
      ],
      "metadata": {
        "colab": {
          "base_uri": "https://localhost:8080/"
        },
        "id": "VRFdLj8hbivX",
        "outputId": "4389d4a4-4168-4110-8db7-06a393818261"
      },
      "execution_count": null,
      "outputs": [
        {
          "output_type": "stream",
          "name": "stdout",
          "text": [
            "Unique Shopping Malls in Sales Data:\n",
            "['South Coast Plaza' 'Beverly Center' 'Westfield Century City'\n",
            " 'Stanford Shopping Center' 'Westfield Valley Fair'\n",
            " 'Del Amo Fashion Center' 'The Grove' 'Irvine Spectrum'\n",
            " 'Glendale Galleria' 'Fashion Valley']\n",
            "\n",
            "Unique Shopping Malls in Shopping Mall Data:\n",
            "['South Coast Plaza' 'Westfield Valley Fair' 'The Grove'\n",
            " 'Westfield Century City' 'Beverly Center' 'Fashion Valley'\n",
            " 'Stanford Shopping Center' 'Glendale Galleria' 'Irvine Spectrum Center'\n",
            " 'Del Amo Fashion Center']\n",
            "\n",
            "Mismatched Shopping Malls (in Sales Data but not in Shopping Mall Data):\n",
            "{'Irvine Spectrum'}\n"
          ]
        }
      ]
    },
    {
      "cell_type": "markdown",
      "source": [
        "## Data Preparation"
      ],
      "metadata": {
        "id": "xXThzAWOFjYt"
      }
    },
    {
      "cell_type": "markdown",
      "source": [
        "### 1. Handle Missing Value"
      ],
      "metadata": {
        "id": "P5HGUZ9EFy-j"
      }
    },
    {
      "cell_type": "code",
      "source": [
        "customer_data['age'] = customer_data['age'].fillna(customer_data['age'].median())\n",
        "customer_data.isnull().sum()"
      ],
      "metadata": {
        "colab": {
          "base_uri": "https://localhost:8080/",
          "height": 209
        },
        "id": "-l_AAunGFnom",
        "outputId": "b407e0fd-ba66-493b-b603-5cb7c1de8e04"
      },
      "execution_count": null,
      "outputs": [
        {
          "output_type": "execute_result",
          "data": {
            "text/plain": [
              "customer_id       0\n",
              "gender            0\n",
              "age               0\n",
              "payment_method    0\n",
              "dtype: int64"
            ],
            "text/html": [
              "<div>\n",
              "<style scoped>\n",
              "    .dataframe tbody tr th:only-of-type {\n",
              "        vertical-align: middle;\n",
              "    }\n",
              "\n",
              "    .dataframe tbody tr th {\n",
              "        vertical-align: top;\n",
              "    }\n",
              "\n",
              "    .dataframe thead th {\n",
              "        text-align: right;\n",
              "    }\n",
              "</style>\n",
              "<table border=\"1\" class=\"dataframe\">\n",
              "  <thead>\n",
              "    <tr style=\"text-align: right;\">\n",
              "      <th></th>\n",
              "      <th>0</th>\n",
              "    </tr>\n",
              "  </thead>\n",
              "  <tbody>\n",
              "    <tr>\n",
              "      <th>customer_id</th>\n",
              "      <td>0</td>\n",
              "    </tr>\n",
              "    <tr>\n",
              "      <th>gender</th>\n",
              "      <td>0</td>\n",
              "    </tr>\n",
              "    <tr>\n",
              "      <th>age</th>\n",
              "      <td>0</td>\n",
              "    </tr>\n",
              "    <tr>\n",
              "      <th>payment_method</th>\n",
              "      <td>0</td>\n",
              "    </tr>\n",
              "  </tbody>\n",
              "</table>\n",
              "</div><br><label><b>dtype:</b> int64</label>"
            ]
          },
          "metadata": {},
          "execution_count": 14
        }
      ]
    },
    {
      "cell_type": "code",
      "source": [
        "# Identify customer_id values in sales_data that are missing in customer_data\n",
        "missing_customers = sales_data[~sales_data['customer_id'].isin(customer_data['customer_id'])]\n",
        "\n",
        "# Print the missing customer_id values\n",
        "print(\"Missing sales_data customer_id values in customer_data:\")\n",
        "print(missing_customers['customer_id'].unique())"
      ],
      "metadata": {
        "colab": {
          "base_uri": "https://localhost:8080/"
        },
        "id": "GDe651oSePOz",
        "outputId": "fb2bcd65-06be-4769-bbea-b309ded6be2b"
      },
      "execution_count": null,
      "outputs": [
        {
          "output_type": "stream",
          "name": "stdout",
          "text": [
            "Missing sales_data customer_id values in customer_data:\n",
            "[]\n"
          ]
        }
      ]
    },
    {
      "cell_type": "code",
      "source": [
        "# Identify customer_id values in sales_data that are missing in customer_data\n",
        "missing_customers = sales_data[~sales_data['customer_id'].isin(customer_data['customer_id'])]\n",
        "\n",
        "# Print the missing customer_id values\n",
        "print(\"Missing customer_id values in customer_data:\")\n",
        "print(missing_customers['customer_id'].unique())"
      ],
      "metadata": {
        "colab": {
          "base_uri": "https://localhost:8080/"
        },
        "id": "5fvp1cbgikW4",
        "outputId": "d4f89a85-8941-466f-8a67-b352921b188b"
      },
      "execution_count": null,
      "outputs": [
        {
          "output_type": "stream",
          "name": "stdout",
          "text": [
            "Missing customer_id values in customer_data:\n",
            "[]\n"
          ]
        }
      ]
    },
    {
      "cell_type": "code",
      "source": [
        "# Get unique customer_id values in sales_data\n",
        "unique_sales_customers = sales_data['customer_id'].unique()\n",
        "\n",
        "# Get unique customer_id values in customer_data\n",
        "unique_customer_customers = customer_data['customer_id'].unique()\n",
        "\n",
        "# Check if all customer_id values in sales_data exist in customer_data\n",
        "missing_customers = set(unique_sales_customers) - set(unique_customer_customers)\n",
        "print(\"Missing customer_id values in customer_data:\")\n",
        "print(missing_customers)"
      ],
      "metadata": {
        "colab": {
          "base_uri": "https://localhost:8080/"
        },
        "id": "9L_y9HRRixmv",
        "outputId": "bae24259-36d7-4cf0-f8cc-72ae47f2983d"
      },
      "execution_count": null,
      "outputs": [
        {
          "output_type": "stream",
          "name": "stdout",
          "text": [
            "Missing customer_id values in customer_data:\n",
            "set()\n"
          ]
        }
      ]
    },
    {
      "cell_type": "markdown",
      "source": [
        "### 2. Changing Data Types"
      ],
      "metadata": {
        "id": "pCTg23XE8Uyk"
      }
    },
    {
      "cell_type": "code",
      "source": [
        "# Convert data types\n",
        "sales_data['invoice date'] = pd.to_datetime(sales_data['invoice date'], format='%m/%d/%Y').dt.strftime('%Y-%m-%d')  # Formating datetime for further analysis\n",
        "customer_data['age'] = customer_data['age'].astype(int)\n",
        "\n",
        "print(\"Sales Data Types:\")\n",
        "print(sales_data.dtypes)\n",
        "print(\"\\nCustomer Data Types:\")\n",
        "print(customer_data.dtypes)\n",
        "print(\"\\nShopping Mall Data Types:\")\n",
        "print(shopping_mall_data.dtypes)"
      ],
      "metadata": {
        "colab": {
          "base_uri": "https://localhost:8080/"
        },
        "id": "MHu4KKkd8V0p",
        "outputId": "8cb06fe0-e0a0-40b8-9e95-534863847047"
      },
      "execution_count": null,
      "outputs": [
        {
          "output_type": "stream",
          "name": "stdout",
          "text": [
            "Sales Data Types:\n",
            "invoice_no        object\n",
            "customer_id       object\n",
            "category          object\n",
            "quantity           int64\n",
            "invoice date      object\n",
            "price            float64\n",
            "shopping_mall     object\n",
            "dtype: object\n",
            "\n",
            "Customer Data Types:\n",
            "customer_id       object\n",
            "gender            object\n",
            "age                int64\n",
            "payment_method    object\n",
            "dtype: object\n",
            "\n",
            "Shopping Mall Data Types:\n",
            "shopping_mall        object\n",
            "construction_year     int64\n",
            "area (sqm)            int64\n",
            "location             object\n",
            "store_count           int64\n",
            "dtype: object\n"
          ]
        }
      ]
    },
    {
      "cell_type": "markdown",
      "source": [
        "### 3. Resolving the Price Column Issue"
      ],
      "metadata": {
        "id": "IqAGyViQ8WJz"
      }
    },
    {
      "cell_type": "code",
      "source": [
        "# Calculate unit price and round to 2 decimal places\n",
        "sales_data['price'] = sales_data['price'].round(2)  # Round price to 2 decimal places\n",
        "sales_data['unit_price'] = (sales_data['price'] / sales_data['quantity']).round(2)\n",
        "\n",
        "# Verify if price represents total price\n",
        "unique_categories = sales_data['category'].nunique()\n",
        "unique_unit_prices = sales_data['unit_price'].nunique()\n",
        "\n",
        "print(f\"Unique Categories: {unique_categories}\")\n",
        "print(f\"Unique Unit Prices: {unique_unit_prices}\")\n",
        "\n",
        "if unique_categories == unique_unit_prices:\n",
        "    print(\"The 'price' column represents TOTAL PRICE.\")\n",
        "else:\n",
        "    print(\"The 'price' column may not represent TOTAL PRICE. Further analysis is needed.\")"
      ],
      "metadata": {
        "colab": {
          "base_uri": "https://localhost:8080/"
        },
        "id": "E8S_hEu68WRu",
        "outputId": "7d81e76b-b0e2-437c-91ce-bab9c7345119"
      },
      "execution_count": null,
      "outputs": [
        {
          "output_type": "stream",
          "name": "stdout",
          "text": [
            "Unique Categories: 8\n",
            "Unique Unit Prices: 8\n",
            "The 'price' column represents TOTAL PRICE.\n"
          ]
        }
      ]
    },
    {
      "cell_type": "code",
      "source": [
        "# Drop the unit_price column\n",
        "sales_data = sales_data.drop(columns=['unit_price'])"
      ],
      "metadata": {
        "id": "ikXtoBozRYJu"
      },
      "execution_count": null,
      "outputs": []
    },
    {
      "cell_type": "markdown",
      "source": [
        "### 4. Resolve inconsistencies in shopping_mall column"
      ],
      "metadata": {
        "id": "WiV48PVrb6qB"
      }
    },
    {
      "cell_type": "code",
      "source": [
        "# Create a mapping dictionary to standardize names\n",
        "mall_name_mapping = {'Irvine Spectrum': 'Irvine Spectrum Center'}\n",
        "\n",
        "# Apply the mapping to the sales_data shopping_mall column\n",
        "sales_data['shopping_mall'] = sales_data['shopping_mall'].replace(mall_name_mapping)\n",
        "\n",
        "updated_unique_sales_malls = sales_data['shopping_mall'].unique()\n",
        "print(\"Updated Unique Shopping Malls in Sales Data:\")\n",
        "print(updated_unique_sales_malls)"
      ],
      "metadata": {
        "colab": {
          "base_uri": "https://localhost:8080/"
        },
        "id": "VlFljBzZb7Fq",
        "outputId": "a316d0a5-4946-440f-e610-ffc5621a3adf"
      },
      "execution_count": null,
      "outputs": [
        {
          "output_type": "stream",
          "name": "stdout",
          "text": [
            "Updated Unique Shopping Malls in Sales Data:\n",
            "['South Coast Plaza' 'Beverly Center' 'Westfield Century City'\n",
            " 'Stanford Shopping Center' 'Westfield Valley Fair'\n",
            " 'Del Amo Fashion Center' 'The Grove' 'Irvine Spectrum Center'\n",
            " 'Glendale Galleria' 'Fashion Valley']\n"
          ]
        }
      ]
    },
    {
      "cell_type": "markdown",
      "source": [
        "### 5. Renaming Columns"
      ],
      "metadata": {
        "id": "aXY7XDbe8WZh"
      }
    },
    {
      "cell_type": "code",
      "source": [
        "# Rename columns for consistency\n",
        "sales_data = sales_data.rename(columns={'price': 'total_price', 'invoice date': 'invoice_date'})\n",
        "shopping_mall_data = shopping_mall_data.rename(columns={'area (sqm)': 'area_sqm'})\n",
        "\n",
        "print(\"Sales Data Columns:\", sales_data.columns)\n",
        "print(\"\\nShopping Mall Data Columns:\", shopping_mall_data.columns)"
      ],
      "metadata": {
        "colab": {
          "base_uri": "https://localhost:8080/"
        },
        "id": "FCETQtFF8WgZ",
        "outputId": "47ecce8d-0111-4e11-be81-0734c1667319"
      },
      "execution_count": null,
      "outputs": [
        {
          "output_type": "stream",
          "name": "stdout",
          "text": [
            "Sales Data Columns: Index(['invoice_no', 'customer_id', 'category', 'quantity', 'invoice_date',\n",
            "       'total_price', 'shopping_mall'],\n",
            "      dtype='object')\n",
            "\n",
            "Shopping Mall Data Columns: Index(['shopping_mall', 'construction_year', 'area_sqm', 'location',\n",
            "       'store_count'],\n",
            "      dtype='object')\n"
          ]
        }
      ]
    },
    {
      "cell_type": "markdown",
      "source": [
        "### 6. Converting All Datasets to CSV"
      ],
      "metadata": {
        "id": "5-vxh7BK8WnJ"
      }
    },
    {
      "cell_type": "code",
      "source": [
        "# Save datasets to CSV files\n",
        "sales_data.to_csv('sales_data_clean.csv', index=False)\n",
        "customer_data.to_csv('customer_data_clean.csv', index=False)\n",
        "shopping_mall_data.to_csv('shopping_mall_data_clean.csv', index=False)\n",
        "\n",
        "# Save datasets to Excel files\n",
        "sales_data.to_excel('sales_data_clean.xlsx', index=False)\n",
        "customer_data.to_excel('customer_data_clean.xlsx', index=False)\n",
        "shopping_mall_data.to_excel('shopping_mall_data_clean.xlsx', index=False)\n",
        "\n",
        "print(\"The dataset has been saved as both CSV and Excel files, ready for further analysis.\")"
      ],
      "metadata": {
        "colab": {
          "base_uri": "https://localhost:8080/"
        },
        "id": "L4JVqX8e8Wub",
        "outputId": "85f66b6a-292d-4cb9-b32c-e74634160a00"
      },
      "execution_count": null,
      "outputs": [
        {
          "output_type": "stream",
          "name": "stdout",
          "text": [
            "The dataset has been saved as both CSV and Excel files, ready for further analysis.\n"
          ]
        }
      ]
    }
  ]
}